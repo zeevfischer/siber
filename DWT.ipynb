{
 "cells": [
  {
   "cell_type": "code",
   "execution_count": 18,
   "id": "f6cf8d99",
   "metadata": {},
   "outputs": [],
   "source": [
    "# import numpy as np\n",
    "# import matplotlib.pyplot as plt\n",
    "# import pywt\n",
    "\n",
    "# # Create a sample signal\n",
    "# t = np.linspace(0, 1, 512, endpoint=False)\n",
    "# signal = np.sin(2 * np.pi * 7 * t) + np.cos(2 * np.pi * 15 * t)\n",
    "\n",
    "# # Discrete Wavelet Transform (DWT)\n",
    "# coeffs = pywt.dwt(signal, 'db1')  # 'db1' is the Daubechies wavelet with one vanishing moment\n",
    "# cA, cD = coeffs\n",
    "\n",
    "# # Adjust the time array for the reduced length\n",
    "# t_cA = np.linspace(0, 1, len(cA), endpoint=False)\n",
    "# t_cD = np.linspace(0, 1, len(cD), endpoint=False)\n",
    "\n",
    "# # Plot the original signal and DWT coefficients\n",
    "# plt.figure(figsize=(12, 4))\n",
    "# plt.subplot(121)\n",
    "# plt.plot(t, signal)\n",
    "# plt.title('Original Signal')\n",
    "\n",
    "# plt.subplot(122)\n",
    "# plt.plot(t_cA, cA, label='Approximation (cA)')\n",
    "# plt.plot(t_cD, cD, label='Detail (cD)')\n",
    "# plt.title('DWT: Approximation and Detail Coefficients')\n",
    "# plt.legend()\n",
    "\n",
    "# plt.tight_layout()\n",
    "# plt.show()\n"
   ]
  },
  {
   "cell_type": "code",
   "execution_count": 16,
   "id": "8e549e38",
   "metadata": {},
   "outputs": [],
   "source": [
    "# import torch\n",
    "# from PIL import Image\n",
    "# import numpy as np\n",
    "# import matplotlib.pyplot as plt\n",
    "# import pywt\n",
    "\n",
    "# # Load YOLOv5 model\n",
    "# model = torch.hub.load(\"ultralytics/yolov5\", \"yolov5s\")\n",
    "\n",
    "# # Load the image\n",
    "# img_path = r\"C:\\Users\\USER\\Desktop\\siber_test\\photos\\P1110564.JPG\"\n",
    "# original_image = Image.open(img_path).convert(\"RGB\")\n",
    "\n",
    "# # Convert the image to a NumPy array\n",
    "# img_array = np.array(original_image)\n",
    "\n",
    "# # Apply Discrete Wavelet Transform (DWT) to the image\n",
    "# coeffs = pywt.dwt2(img_array, 'bior1.3')  # Using the biorthogonal 1.3 wavelet\n",
    "\n",
    "# # Get the size of the original image\n",
    "# original_shape = img_array.shape[:2]\n",
    "\n",
    "# # Resize the coefficients to the size of the original image\n",
    "# resized_coeffs = (\n",
    "#     pywt.idwt2((coeffs[0][:original_shape[0]//2, :original_shape[1]//2],\n",
    "#                 (coeffs[1][0][:original_shape[0]//2, :original_shape[1]//2],\n",
    "#                  coeffs[1][1][:original_shape[0]//2, :original_shape[1]//2],\n",
    "#                  coeffs[1][2][:original_shape[0]//2, :original_shape[1]//2])), 'bior1.3'))\n",
    "\n",
    "# # Reconstruct the image from the DWT coefficients\n",
    "# reconstructed_image = resized_coeffs.astype(np.uint8)\n",
    "\n",
    "# # Display the original and DWT-transformed images\n",
    "# plt.figure(figsize=(10, 5))\n",
    "\n",
    "# plt.subplot(1, 2, 1)\n",
    "# plt.imshow(img_array)\n",
    "# plt.title('Original Image')\n",
    "\n",
    "# plt.subplot(1, 2, 2)\n",
    "# plt.imshow(reconstructed_image)\n",
    "# plt.title('DWT-transformed Image')\n",
    "\n",
    "# plt.show()\n"
   ]
  },
  {
   "cell_type": "code",
   "execution_count": 10,
   "id": "6d466391",
   "metadata": {},
   "outputs": [
    {
     "name": "stderr",
     "output_type": "stream",
     "text": [
      "Using cache found in C:\\Users\\USER/.cache\\torch\\hub\\ultralytics_yolov5_master\n",
      "YOLOv5  2024-2-25 Python-3.11.5 torch-2.2.1+cpu CPU\n",
      "\n",
      "Fusing layers... \n",
      "YOLOv5s summary: 213 layers, 7225885 parameters, 0 gradients, 16.4 GFLOPs\n",
      "Adding AutoShape... \n"
     ]
    },
    {
     "data": {
      "text/plain": [
       "True"
      ]
     },
     "execution_count": 10,
     "metadata": {},
     "output_type": "execute_result"
    }
   ],
   "source": [
    "import torch\n",
    "import numpy as np\n",
    "import cv2\n",
    "import pywt\n",
    "\n",
    "# Load YOLOv5 model\n",
    "model = torch.hub.load(\"ultralytics/yolov5\", \"yolov5s\")\n",
    "\n",
    "# Load the image\n",
    "img_path = r\"C:\\Users\\USER\\Desktop\\siber_test\\photos\\P1110564.JPG\"\n",
    "original_image = cv2.imread(img_path, cv2.IMREAD_COLOR)\n",
    "\n",
    "# Convert the image to RGB (OpenCV uses BGR by default)\n",
    "original_image = cv2.cvtColor(original_image, cv2.COLOR_BGR2RGB)\n",
    "\n",
    "# Apply Discrete Wavelet Transform (DWT) to the image\n",
    "coeffs = pywt.dwt2(original_image, 'bior1.3')  # Using the biorthogonal 1.3 wavelet\n",
    "\n",
    "# Get the size of the original image\n",
    "original_shape = original_image.shape[:2]\n",
    "\n",
    "# Resize the coefficients to the size of the original image\n",
    "resized_coeffs = (\n",
    "    pywt.idwt2((coeffs[0][:original_shape[0]//2, :original_shape[1]//2],\n",
    "                (coeffs[1][0][:original_shape[0]//2, :original_shape[1]//2],\n",
    "                 coeffs[1][1][:original_shape[0]//2, :original_shape[1]//2],\n",
    "                 coeffs[1][2][:original_shape[0]//2, :original_shape[1]//2])), 'bior1.3'))\n",
    "\n",
    "# Reconstruct the image from the DWT coefficients\n",
    "reconstructed_image = resized_coeffs.astype(np.uint8)\n",
    "\n",
    "# Save the images\n",
    "cv2.imwrite(\"original_image.jpg\", cv2.cvtColor(original_image, cv2.COLOR_RGB2BGR))\n",
    "cv2.imwrite(\"dwt_transformed_image.jpg\", cv2.cvtColor(reconstructed_image, cv2.COLOR_RGB2BGR))\n"
   ]
  },
  {
   "cell_type": "code",
   "execution_count": 14,
   "id": "9f4688fe",
   "metadata": {},
   "outputs": [
    {
     "name": "stderr",
     "output_type": "stream",
     "text": [
      "Using cache found in C:\\Users\\USER/.cache\\torch\\hub\\ultralytics_yolov5_master\n",
      "YOLOv5  2024-2-25 Python-3.11.5 torch-2.2.1+cpu CPU\n",
      "\n",
      "Fusing layers... \n",
      "YOLOv5s summary: 213 layers, 7225885 parameters, 0 gradients, 16.4 GFLOPs\n",
      "Adding AutoShape... \n"
     ]
    },
    {
     "data": {
      "text/plain": [
       "True"
      ]
     },
     "execution_count": 14,
     "metadata": {},
     "output_type": "execute_result"
    }
   ],
   "source": [
    "import torch\n",
    "import numpy as np\n",
    "import cv2\n",
    "import matplotlib.pyplot as plt\n",
    "import pywt\n",
    "\n",
    "# Load YOLOv5 model\n",
    "model = torch.hub.load(\"ultralytics/yolov5\", \"yolov5s\")\n",
    "\n",
    "# Load the image\n",
    "img_path = r\"C:\\Users\\USER\\Desktop\\siber_test\\photos\\P1110564.JPG\"\n",
    "original_image = cv2.imread(img_path, cv2.IMREAD_COLOR)\n",
    "\n",
    "# Convert the image to RGB (OpenCV uses BGR by default)\n",
    "original_image = cv2.cvtColor(original_image, cv2.COLOR_BGR2RGB)\n",
    "\n",
    "# Apply Discrete Wavelet Transform (DWT) to the image\n",
    "coeffs = pywt.dwt2(original_image, 'bior1.3')  # Using the biorthogonal 1.3 wavelet\n",
    "\n",
    "# Get the size of the original image\n",
    "original_shape = original_image.shape[:2]\n",
    "\n",
    "# Modify different sets of coefficients with different factors\n",
    "modification_factor_detail = 0.2\n",
    "modification_factor_approx = 0.1\n",
    "\n",
    "coeffs_modified = (\n",
    "    coeffs[0] + modification_factor_approx * np.random.randn(*coeffs[0].shape),\n",
    "    (\n",
    "        coeffs[1][0] + modification_factor_detail * np.random.randn(*coeffs[1][0].shape),\n",
    "        coeffs[1][1] + modification_factor_detail * np.random.randn(*coeffs[1][1].shape),\n",
    "        coeffs[1][2] + modification_factor_detail * np.random.randn(*coeffs[1][2].shape),\n",
    "    )\n",
    ")\n",
    "\n",
    "# Reconstruct the image from the modified DWT coefficients\n",
    "reconstructed_image_modified = pywt.idwt2(coeffs_modified, 'bior1.3')\n",
    "\n",
    "# Save the original, modified, and reconstructed images\n",
    "cv2.imwrite(\"original_image.jpg\", cv2.cvtColor(original_image, cv2.COLOR_RGB2BGR))\n",
    "cv2.imwrite(\"modified_image.jpg\", cv2.cvtColor(reconstructed_image_modified.astype(np.uint8), cv2.COLOR_RGB2BGR))\n",
    "\n",
    "# Inverse DWT on the modified coefficients to reconstruct the image\n",
    "reconstructed_image = pywt.idwt2(coeffs, 'bior1.3')\n",
    "\n",
    "# Save the image reconstructed from the original coefficients\n",
    "cv2.imwrite(\"reconstructed_image.jpg\", cv2.cvtColor(reconstructed_image.astype(np.uint8), cv2.COLOR_RGB2BGR))\n"
   ]
  }
 ],
 "metadata": {
  "kernelspec": {
   "display_name": "Python 3 (ipykernel)",
   "language": "python",
   "name": "python3"
  },
  "language_info": {
   "codemirror_mode": {
    "name": "ipython",
    "version": 3
   },
   "file_extension": ".py",
   "mimetype": "text/x-python",
   "name": "python",
   "nbconvert_exporter": "python",
   "pygments_lexer": "ipython3",
   "version": "3.11.5"
  }
 },
 "nbformat": 4,
 "nbformat_minor": 5
}
