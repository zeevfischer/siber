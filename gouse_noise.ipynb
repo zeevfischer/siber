{
 "cells": [
  {
   "cell_type": "markdown",
   "id": "34463801",
   "metadata": {},
   "source": [
    "# create image noise "
   ]
  },
  {
   "cell_type": "code",
   "execution_count": 37,
   "id": "ca643b54",
   "metadata": {},
   "outputs": [],
   "source": [
    "import numpy as np\n",
    "import cv2\n",
    "import torch\n",
    "from PIL import Image\n",
    "import requests\n",
    "from io import BytesIO\n",
    "import matplotlib.pyplot as plt\n",
    "\n",
    "# Set the dimensions of your image\n",
    "width, height = 800, 600\n",
    "\n",
    "# Generate random noise (you can adjust the intensity by changing the scale)\n",
    "noise = np.random.normal(loc=0, scale=25, size=(height, width, 3)) # change the scale to reduce or inhance the noise\n",
    "\n",
    "# Create an empty image and add the noise\n",
    "noise_img = np.zeros((height, width, 3), dtype=np.uint8)\n",
    "noise = noise.astype(np.uint8)  # Convert noise to uint8\n",
    "noise_img = cv2.addWeighted(noise_img, 1.0, noise, 1.0, 0)\n",
    "\n",
    "# # Save or display the noise image\n",
    "# cv2.imwrite(r'C:\\Users\\USER\\Desktop\\siber_test\\photos\\noise_image.png', noise_img)"
   ]
  },
  {
   "cell_type": "markdown",
   "id": "27637bad",
   "metadata": {},
   "source": [
    "# origina photo"
   ]
  },
  {
   "cell_type": "code",
   "execution_count": 69,
   "id": "09621c46",
   "metadata": {},
   "outputs": [],
   "source": [
    "# Model\n",
    "model = torch.hub.load(\"ultralytics/yolov5\", \"yolov5s\")\n",
    "#Google Drive link to the photo\n",
    "image_url = \"https://drive.google.com/uc?id=1wd7hb6b_6eK0p_DWJuhOQeUiRudtB4IP\"\n",
    "\n",
    "# Fetch image from the URL\n",
    "response = requests.get(image_url)\n",
    "img = Image.open(BytesIO(response.content))\n",
    "\n",
    "# # Show prediction on the original photo\n",
    "# model(img).show()\n",
    "\n",
    "# Get the results\n",
    "results = model(img)\n",
    "\n",
    "# Extract confidence values for the class \"person\" (class index 0)\n",
    "person_confidences = results.xyxy[0][results.xyxy[0][:, 5] == 0, 4].cpu().numpy()\n",
    "\n",
    "# Print confidence values for the class \"person\"\n",
    "print(\"Confidence values for the class 'person':\")\n",
    "for confidence in person_confidences:\n",
    "    print(confidence)\n",
    "    \n",
    "results.show()"
   ]
  },
  {
   "cell_type": "markdown",
   "id": "2166608c",
   "metadata": {},
   "source": [
    "# add noise "
   ]
  },
  {
   "cell_type": "code",
   "execution_count": 68,
   "id": "68ec1b76",
   "metadata": {},
   "outputs": [],
   "source": [
    "# see definition in code above\n",
    "original = cv2.cvtColor(np.array(img), cv2.COLOR_RGB2BGR)\n",
    "noise = cv2.cvtColor(noise_img, cv2.COLOR_RGB2BGR)\n",
    "\n",
    "# Ensure images are of the same size\n",
    "noise = cv2.resize(noise, (original.shape[1], original.shape[0]))\n",
    "\n",
    "# Define a range of noise levels\n",
    "noise_levels = [0.1, 0.3, 0.5, 0.7, 1.0]\n",
    "original_percentages = [1 - noise_level for noise_level in noise_levels]\n",
    "\n",
    "# Lists to store data for plotting\n",
    "noise_percentages = []\n",
    "accuracies = []\n",
    "\n",
    "for noise_level, original_percentage in zip(noise_levels, original_percentages):\n",
    "    # Add the images together\n",
    "    noiseImage = cv2.addWeighted(original, original_percentage, noise, noise_level, 0)\n",
    "    \n",
    "    # Convert the result back to PIL format for showing\n",
    "    noiseImage_pil = Image.fromarray(cv2.cvtColor(noiseImage, cv2.COLOR_BGR2RGB))\n",
    "    \n",
    "    # Print the percentage of noise\n",
    "    print(f\"Percentage of noise: {noise_level * 100}%\")\n",
    "    \n",
    "    # Get the results\n",
    "    results = model(noiseImage_pil)\n",
    "\n",
    "    # Extract confidence values for the class \"person\" (class index 0)\n",
    "    person_confidences = results.xyxy[0][results.xyxy[0][:, 5] == 0, 4].cpu().numpy()\n",
    "#     print (person_confidences)\n",
    "    \n",
    "    if len(person_confidences) == 0:\n",
    "        accuracies.append(0)\n",
    "        \n",
    "    # Print confidence values for the class \"person\"\n",
    "    for confidence in person_confidences:\n",
    "        accuracies.append(confidence)\n",
    "    \n",
    "    # Store data for plotting\n",
    "    noise_percentages.append(noise_level * 100)\n",
    "    \n",
    "    # Show prediction on the noisy photo\n",
    "    results.show()"
   ]
  },
  {
   "cell_type": "code",
   "execution_count": 67,
   "id": "e6c4cf47",
   "metadata": {},
   "outputs": [],
   "source": [
    "# Plotting the graph\n",
    "plt.plot(noise_percentages, accuracies, marker='o')\n",
    "plt.title('Effect of Noise on YOLOv5 Prediction Accuracy')\n",
    "plt.xlabel('Percentage of Noise')\n",
    "plt.ylabel('Prediction Accuracy')\n",
    "plt.grid(True)\n",
    "plt.show()"
   ]
  },
  {
   "cell_type": "code",
   "execution_count": null,
   "id": "e6b7a992",
   "metadata": {},
   "outputs": [],
   "source": []
  }
 ],
 "metadata": {
  "kernelspec": {
   "display_name": "Python 3 (ipykernel)",
   "language": "python",
   "name": "python3"
  },
  "language_info": {
   "codemirror_mode": {
    "name": "ipython",
    "version": 3
   },
   "file_extension": ".py",
   "mimetype": "text/x-python",
   "name": "python",
   "nbconvert_exporter": "python",
   "pygments_lexer": "ipython3",
   "version": "3.11.5"
  }
 },
 "nbformat": 4,
 "nbformat_minor": 5
}
